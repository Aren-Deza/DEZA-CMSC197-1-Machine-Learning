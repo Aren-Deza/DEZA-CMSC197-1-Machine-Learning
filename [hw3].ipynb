{
 "cells": [
  {
   "cell_type": "markdown",
   "id": "b882d1b3",
   "metadata": {},
   "source": [
    "# CMSC 197 - Problem Set 3\n",
    "Aren Deza, 2019-50022<br>BS Compsci 4, Section 1\n",
    "## [ IMPLEMENTING LINEAR REGRESSION WITH GRADIENT DESCENT ]"
   ]
  },
  {
   "cell_type": "markdown",
   "id": "1915f29f",
   "metadata": {},
   "source": [
    "### 1) Loading Advertising.csv using pandas"
   ]
  },
  {
   "cell_type": "code",
   "execution_count": 1,
   "id": "4817d541",
   "metadata": {},
   "outputs": [],
   "source": [
    "import numpy as np\n",
    "import pandas as pd\n",
    "import matplotlib.pyplot as plt\n",
    "import sklearn as skl"
   ]
  },
  {
   "cell_type": "code",
   "execution_count": 2,
   "id": "5827f403",
   "metadata": {
    "scrolled": true
   },
   "outputs": [
    {
     "data": {
      "text/html": [
       "<div>\n",
       "<style scoped>\n",
       "    .dataframe tbody tr th:only-of-type {\n",
       "        vertical-align: middle;\n",
       "    }\n",
       "\n",
       "    .dataframe tbody tr th {\n",
       "        vertical-align: top;\n",
       "    }\n",
       "\n",
       "    .dataframe thead th {\n",
       "        text-align: right;\n",
       "    }\n",
       "</style>\n",
       "<table border=\"1\" class=\"dataframe\">\n",
       "  <thead>\n",
       "    <tr style=\"text-align: right;\">\n",
       "      <th></th>\n",
       "      <th>Unnamed: 0</th>\n",
       "      <th>TV</th>\n",
       "      <th>Radio</th>\n",
       "      <th>Newspaper</th>\n",
       "      <th>Sales</th>\n",
       "    </tr>\n",
       "  </thead>\n",
       "  <tbody>\n",
       "    <tr>\n",
       "      <th>0</th>\n",
       "      <td>1</td>\n",
       "      <td>230.1</td>\n",
       "      <td>37.8</td>\n",
       "      <td>69.2</td>\n",
       "      <td>22.1</td>\n",
       "    </tr>\n",
       "    <tr>\n",
       "      <th>1</th>\n",
       "      <td>2</td>\n",
       "      <td>44.5</td>\n",
       "      <td>39.3</td>\n",
       "      <td>45.1</td>\n",
       "      <td>10.4</td>\n",
       "    </tr>\n",
       "    <tr>\n",
       "      <th>2</th>\n",
       "      <td>3</td>\n",
       "      <td>17.2</td>\n",
       "      <td>45.9</td>\n",
       "      <td>69.3</td>\n",
       "      <td>9.3</td>\n",
       "    </tr>\n",
       "    <tr>\n",
       "      <th>3</th>\n",
       "      <td>4</td>\n",
       "      <td>151.5</td>\n",
       "      <td>41.3</td>\n",
       "      <td>58.5</td>\n",
       "      <td>18.5</td>\n",
       "    </tr>\n",
       "    <tr>\n",
       "      <th>4</th>\n",
       "      <td>5</td>\n",
       "      <td>180.8</td>\n",
       "      <td>10.8</td>\n",
       "      <td>58.4</td>\n",
       "      <td>12.9</td>\n",
       "    </tr>\n",
       "  </tbody>\n",
       "</table>\n",
       "</div>"
      ],
      "text/plain": [
       "   Unnamed: 0     TV  Radio  Newspaper  Sales\n",
       "0           1  230.1   37.8       69.2   22.1\n",
       "1           2   44.5   39.3       45.1   10.4\n",
       "2           3   17.2   45.9       69.3    9.3\n",
       "3           4  151.5   41.3       58.5   18.5\n",
       "4           5  180.8   10.8       58.4   12.9"
      ]
     },
     "execution_count": 2,
     "metadata": {},
     "output_type": "execute_result"
    }
   ],
   "source": [
    "df = pd.read_csv(\"Advertising.csv\")\n",
    "df.head()"
   ]
  },
  {
   "cell_type": "markdown",
   "id": "cc86041e",
   "metadata": {},
   "source": [
    "### 2) Standardizing the data\n",
    "\n",
    "The next textbox uses the same standardization method as the sample codes.<br>\n",
    "Following that, the standardization method used is sklearn's StandardScaler().<br>\n",
    "To swap between them, comment one out and uncomment the other."
   ]
  },
  {
   "cell_type": "code",
   "execution_count": 3,
   "id": "d4901e64",
   "metadata": {},
   "outputs": [],
   "source": [
    "# SAMPLE CODE STANDARDIZATION \n",
    "\n",
    "#x = df.copy()\n",
    "#x_min = np.min(x, axis=0)\n",
    "#x_max = np.max(x, axis=0)\n",
    "#x = (x - x_min)/(x_max - x_min).values\n",
    "\n",
    "#y = x['Sales']\n",
    "#x = x.drop(\"Sales\", axis = 1)"
   ]
  },
  {
   "cell_type": "code",
   "execution_count": 4,
   "id": "67ef09a4",
   "metadata": {
    "scrolled": true
   },
   "outputs": [],
   "source": [
    "# SKLEARN STANDARD SCALER\n",
    "\n",
    "from sklearn.preprocessing import StandardScaler  \n",
    "\n",
    "scaler = StandardScaler(with_mean=True, with_std=True, copy=True)\n",
    "x = df.copy()\n",
    "x = scaler.fit_transform(x)\n",
    "x = pd.DataFrame(x, columns=['Unnamed: 0','TV','Radio','Newspaper','Sales'])"
   ]
  },
  {
   "cell_type": "code",
   "execution_count": 5,
   "id": "a22ff019",
   "metadata": {},
   "outputs": [],
   "source": [
    "y = x['Sales']\n",
    "x = x.drop(\"Sales\", axis = 1)"
   ]
  },
  {
   "cell_type": "markdown",
   "id": "62fbf110",
   "metadata": {},
   "source": [
    "### 3) Adding the bias column to the data"
   ]
  },
  {
   "cell_type": "code",
   "execution_count": 6,
   "id": "81914b0e",
   "metadata": {
    "scrolled": false
   },
   "outputs": [
    {
     "data": {
      "text/html": [
       "<div>\n",
       "<style scoped>\n",
       "    .dataframe tbody tr th:only-of-type {\n",
       "        vertical-align: middle;\n",
       "    }\n",
       "\n",
       "    .dataframe tbody tr th {\n",
       "        vertical-align: top;\n",
       "    }\n",
       "\n",
       "    .dataframe thead th {\n",
       "        text-align: right;\n",
       "    }\n",
       "</style>\n",
       "<table border=\"1\" class=\"dataframe\">\n",
       "  <thead>\n",
       "    <tr style=\"text-align: right;\">\n",
       "      <th></th>\n",
       "      <th>bias</th>\n",
       "      <th>TV</th>\n",
       "      <th>Radio</th>\n",
       "      <th>Newspaper</th>\n",
       "    </tr>\n",
       "  </thead>\n",
       "  <tbody>\n",
       "    <tr>\n",
       "      <th>0</th>\n",
       "      <td>1</td>\n",
       "      <td>0.969852</td>\n",
       "      <td>0.981522</td>\n",
       "      <td>1.778945</td>\n",
       "    </tr>\n",
       "    <tr>\n",
       "      <th>1</th>\n",
       "      <td>1</td>\n",
       "      <td>-1.197376</td>\n",
       "      <td>1.082808</td>\n",
       "      <td>0.669579</td>\n",
       "    </tr>\n",
       "    <tr>\n",
       "      <th>2</th>\n",
       "      <td>1</td>\n",
       "      <td>-1.516155</td>\n",
       "      <td>1.528463</td>\n",
       "      <td>1.783549</td>\n",
       "    </tr>\n",
       "    <tr>\n",
       "      <th>3</th>\n",
       "      <td>1</td>\n",
       "      <td>0.052050</td>\n",
       "      <td>1.217855</td>\n",
       "      <td>1.286405</td>\n",
       "    </tr>\n",
       "    <tr>\n",
       "      <th>4</th>\n",
       "      <td>1</td>\n",
       "      <td>0.394182</td>\n",
       "      <td>-0.841614</td>\n",
       "      <td>1.281802</td>\n",
       "    </tr>\n",
       "  </tbody>\n",
       "</table>\n",
       "</div>"
      ],
      "text/plain": [
       "   bias        TV     Radio  Newspaper\n",
       "0     1  0.969852  0.981522   1.778945\n",
       "1     1 -1.197376  1.082808   0.669579\n",
       "2     1 -1.516155  1.528463   1.783549\n",
       "3     1  0.052050  1.217855   1.286405\n",
       "4     1  0.394182 -0.841614   1.281802"
      ]
     },
     "execution_count": 6,
     "metadata": {},
     "output_type": "execute_result"
    }
   ],
   "source": [
    "x = x.rename(columns={'Unnamed: 0':'bias'})\n",
    "x['bias'] = 1\n",
    "x.head()"
   ]
  },
  {
   "cell_type": "markdown",
   "id": "5d4f2930",
   "metadata": {},
   "source": [
    "### 4) Dividing the dataset into training and testing"
   ]
  },
  {
   "cell_type": "code",
   "execution_count": 7,
   "id": "73049108",
   "metadata": {},
   "outputs": [],
   "source": [
    "from sklearn.model_selection import train_test_split"
   ]
  },
  {
   "cell_type": "code",
   "execution_count": 8,
   "id": "abae4598",
   "metadata": {},
   "outputs": [],
   "source": [
    "x_train, x_test, y_train, y_test = train_test_split(x, y, test_size=0.25, random_state=42, shuffle=False)"
   ]
  },
  {
   "cell_type": "code",
   "execution_count": 9,
   "id": "d2a0fedf",
   "metadata": {
    "scrolled": true
   },
   "outputs": [
    {
     "data": {
      "text/html": [
       "<div>\n",
       "<style scoped>\n",
       "    .dataframe tbody tr th:only-of-type {\n",
       "        vertical-align: middle;\n",
       "    }\n",
       "\n",
       "    .dataframe tbody tr th {\n",
       "        vertical-align: top;\n",
       "    }\n",
       "\n",
       "    .dataframe thead th {\n",
       "        text-align: right;\n",
       "    }\n",
       "</style>\n",
       "<table border=\"1\" class=\"dataframe\">\n",
       "  <thead>\n",
       "    <tr style=\"text-align: right;\">\n",
       "      <th></th>\n",
       "      <th>bias</th>\n",
       "      <th>TV</th>\n",
       "      <th>Radio</th>\n",
       "      <th>Newspaper</th>\n",
       "    </tr>\n",
       "  </thead>\n",
       "  <tbody>\n",
       "    <tr>\n",
       "      <th>0</th>\n",
       "      <td>1</td>\n",
       "      <td>0.969852</td>\n",
       "      <td>0.981522</td>\n",
       "      <td>1.778945</td>\n",
       "    </tr>\n",
       "    <tr>\n",
       "      <th>1</th>\n",
       "      <td>1</td>\n",
       "      <td>-1.197376</td>\n",
       "      <td>1.082808</td>\n",
       "      <td>0.669579</td>\n",
       "    </tr>\n",
       "    <tr>\n",
       "      <th>2</th>\n",
       "      <td>1</td>\n",
       "      <td>-1.516155</td>\n",
       "      <td>1.528463</td>\n",
       "      <td>1.783549</td>\n",
       "    </tr>\n",
       "    <tr>\n",
       "      <th>3</th>\n",
       "      <td>1</td>\n",
       "      <td>0.052050</td>\n",
       "      <td>1.217855</td>\n",
       "      <td>1.286405</td>\n",
       "    </tr>\n",
       "    <tr>\n",
       "      <th>4</th>\n",
       "      <td>1</td>\n",
       "      <td>0.394182</td>\n",
       "      <td>-0.841614</td>\n",
       "      <td>1.281802</td>\n",
       "    </tr>\n",
       "  </tbody>\n",
       "</table>\n",
       "</div>"
      ],
      "text/plain": [
       "   bias        TV     Radio  Newspaper\n",
       "0     1  0.969852  0.981522   1.778945\n",
       "1     1 -1.197376  1.082808   0.669579\n",
       "2     1 -1.516155  1.528463   1.783549\n",
       "3     1  0.052050  1.217855   1.286405\n",
       "4     1  0.394182 -0.841614   1.281802"
      ]
     },
     "execution_count": 9,
     "metadata": {},
     "output_type": "execute_result"
    }
   ],
   "source": [
    "x_train.head()"
   ]
  },
  {
   "cell_type": "markdown",
   "id": "a7564185",
   "metadata": {},
   "source": [
    "### 5) Fitting the model on the training set"
   ]
  },
  {
   "cell_type": "code",
   "execution_count": 10,
   "id": "963dcade",
   "metadata": {
    "scrolled": false
   },
   "outputs": [],
   "source": [
    "# for the purpose of clarity, I am using the same directions as shown in the lecture videos by Andrew Ng.\n",
    "# Our gradient descent here will not continue until cost stabilises, but rather until we find the lowest cost possible.\n",
    "\n",
    "def initialize_weights():\n",
    "    init_w = np.array([0.0, 0.0, 0.0, 0.0])\n",
    "    return init_w\n",
    "\n",
    "def predict(j, x_set):\n",
    "    y_hat = x_set.copy()\n",
    "    y_hat['new'] = j[0]*(y_hat['bias']) + j[1]*(y_hat['TV']) + j[2]*(y_hat['Radio']) + j[3]*(y_hat['Newspaper'])\n",
    "    return y_hat['new']\n",
    "\n",
    "def compute_cost(m, hat, y_set):\n",
    "    cost = 0\n",
    "    i = hat.index[0]\n",
    "    for j in hat:\n",
    "        cost = (hat[i] - y_set[i])**2\n",
    "        i += 1\n",
    "    cost = cost * (1/2*m)\n",
    "    return cost\n",
    "\n",
    "def compute_gradient(m, alpha, hat, y_set, x_set):\n",
    "    w = []\n",
    "    # for each predictor in the given set\n",
    "    for predictor in x_set:\n",
    "        j = 0\n",
    "        i = hat.index[0]\n",
    "        for k in hat:\n",
    "            j = j + (hat[i] - y_set[i]) * x_set[predictor][i]\n",
    "            i += 1\n",
    "        j = j * alpha * (1/m)\n",
    "        w.append(j)\n",
    "    return w\n",
    "\n",
    "def update_weights(weights, w):\n",
    "    updated = []\n",
    "    for i in range(0,4):\n",
    "        j = weights[i] - w[i]\n",
    "        updated.append(j)\n",
    "    return updated\n",
    "    \n",
    "def grad_descent(alpha, x_set, y_set):\n",
    "    costs = []\n",
    "    \n",
    "    # initial calling of functions to make sure all our variables are in order before looping\n",
    "    weights = initialize_weights()\n",
    "    y_hat = predict(weights, x_set)\n",
    "    cost = compute_cost(y_set.shape[0], y_hat, y_set)\n",
    "    prev_cost = cost + 1                         # arbitrary value that just needs to be bigger than cost\n",
    "    w = compute_gradient(y_set.shape[0], alpha, y_hat, y_set, x_set)\n",
    "    \n",
    "    # as long as the previous cost > current cost, keep iterating\n",
    "    # in any case where we'd end up increasing, that means the LR is too large and we accidentally overshot.\n",
    "    # so if we hit the lowest point, that means we've reached convergence.\n",
    "    while (prev_cost > cost): \n",
    "        weights = update_weights(weights, w)     # update weights\n",
    "        costs.append(cost)                       # update costs\n",
    "        y_hat = predict(weights, x_set)          # predict new value for y-hat\n",
    "        prev_cost = cost                         # update previous cost\n",
    "        cost = compute_cost(y_set.shape[0], y_hat, y_set) # calculate new cost\n",
    "        w = compute_gradient(y_set.shape[0], alpha, y_hat, y_set, x_set)\n",
    "    return weights, costs\n",
    "\n",
    "def plot_costs(costs):\n",
    "    costplot = pd.DataFrame(costs, columns=['cost'])\n",
    "    costplot['index'] = costplot.index.values\n",
    "    plt.figure(figsize=(16,4))\n",
    "    this = plt.plot(costplot['cost'])\n",
    "    return this"
   ]
  },
  {
   "cell_type": "code",
   "execution_count": 11,
   "id": "e38f35c8",
   "metadata": {},
   "outputs": [],
   "source": [
    "alpha = 0.01 # this is the learning rate"
   ]
  },
  {
   "cell_type": "code",
   "execution_count": 12,
   "id": "ab4a7f4d",
   "metadata": {
    "scrolled": false
   },
   "outputs": [
    {
     "data": {
      "text/plain": [
       "[<matplotlib.lines.Line2D at 0x1a845cddf10>]"
      ]
     },
     "execution_count": 12,
     "metadata": {},
     "output_type": "execute_result"
    },
    {
     "data": {
      "image/png": "[encoded data removed]",
      "text/plain": [
       "<Figure size 1152x288 with 1 Axes>"
      ]
     },
     "metadata": {
      "needs_background": "light"
     },
     "output_type": "display_data"
    }
   ],
   "source": [
    "# predicting y for the train set and calculating the cost\n",
    "\n",
    "weights_train, costs_train = grad_descent(alpha, x_train, y_train)\n",
    "plot_costs(costs_train)"
   ]
  },
  {
   "cell_type": "code",
   "execution_count": 13,
   "id": "4ae49ad7",
   "metadata": {
    "scrolled": false
   },
   "outputs": [
    {
     "name": "stdout",
     "output_type": "stream",
     "text": [
      "[0.009973254791945253, 0.6827554374541572, 0.4357970099774008, 0.050348952521936406]\n",
      "3.016247325301351e-06\n"
     ]
    }
   ],
   "source": [
    "print(weights_train)\n",
    "print(costs_train[len(costs_train)-1])"
   ]
  },
  {
   "cell_type": "code",
   "execution_count": 14,
   "id": "c8d514ab",
   "metadata": {
    "scrolled": false
   },
   "outputs": [
    {
     "data": {
      "text/plain": [
       "[<matplotlib.lines.Line2D at 0x1a846400ee0>]"
      ]
     },
     "execution_count": 14,
     "metadata": {},
     "output_type": "execute_result"
    },
    {
     "data": {
      "image/png": "[encoded data removed]",
      "text/plain": [
       "<Figure size 1152x288 with 1 Axes>"
      ]
     },
     "metadata": {
      "needs_background": "light"
     },
     "output_type": "display_data"
    }
   ],
   "source": [
    "# predicting y for the test set and calculating the cost\n",
    "\n",
    "weights_test, costs_test = grad_descent(alpha, x_test, y_test)\n",
    "plot_costs(costs_test)"
   ]
  },
  {
   "cell_type": "code",
   "execution_count": 15,
   "id": "963ab5ee",
   "metadata": {},
   "outputs": [
    {
     "name": "stdout",
     "output_type": "stream",
     "text": [
      "[-0.01750404383014608, 0.34987335415263915, 0.3055055701062212, 0.10200356201375751]\n",
      "0.04947234299443457\n"
     ]
    }
   ],
   "source": [
    "print(weights_test)\n",
    "print(costs_test[len(costs_test)-1])"
   ]
  },
  {
   "cell_type": "markdown",
   "id": "d4d8833d",
   "metadata": {},
   "source": [
    "### 6) Predict the quantitative response y on the train set"
   ]
  },
  {
   "cell_type": "code",
   "execution_count": 16,
   "id": "a839b5a7",
   "metadata": {
    "scrolled": false
   },
   "outputs": [
    {
     "data": {
      "text/plain": [
       "<matplotlib.collections.PathCollection at 0x1a84647f580>"
      ]
     },
     "execution_count": 16,
     "metadata": {},
     "output_type": "execute_result"
    },
    {
     "data": {
      "image/png": "[encoded data removed]",
      "text/plain": [
       "<Figure size 432x288 with 1 Axes>"
      ]
     },
     "metadata": {
      "needs_background": "light"
     },
     "output_type": "display_data"
    }
   ],
   "source": [
    "trpr = y_train.copy() #stands for training prediction\n",
    "trpr = pd.DataFrame(trpr)\n",
    "trpr['Predicted'] = (x_train['bias']*weights_train[0]) + (x_train['TV']*weights_train[1]) + (x_train['Radio']*weights_train[2]) + (x_train['Newspaper']*weights_train[3])\n",
    "\n",
    "plt.scatter(trpr['Sales'],trpr['Predicted'])"
   ]
  },
  {
   "cell_type": "markdown",
   "id": "19f34da8",
   "metadata": {},
   "source": [
    "### 7) Predict the quantitative response y on the test set\n",
    "First using the gradient descent algorithm to predict y for test using the predictors in the test set"
   ]
  },
  {
   "cell_type": "code",
   "execution_count": 17,
   "id": "f6cd4a9c",
   "metadata": {},
   "outputs": [
    {
     "data": {
      "text/plain": [
       "<matplotlib.collections.PathCollection at 0x1a8464e7cd0>"
      ]
     },
     "execution_count": 17,
     "metadata": {},
     "output_type": "execute_result"
    },
    {
     "data": {
      "image/png": "[encoded data removed]",
      "text/plain": [
       "<Figure size 432x288 with 1 Axes>"
      ]
     },
     "metadata": {
      "needs_background": "light"
     },
     "output_type": "display_data"
    }
   ],
   "source": [
    "tepr = y_test.copy() #stands for training prediction\n",
    "tepr = pd.DataFrame(tepr)\n",
    "tepr['Predicted'] = (x_test['bias']*weights_test[0]) + (x_test['TV']*weights_test[1]) + (x_test['Radio']*weights_test[2]) + (x_test['Newspaper']*weights_test[3])\n",
    "\n",
    "plt.scatter(tepr['Sales'],tepr['Predicted'])"
   ]
  },
  {
   "cell_type": "markdown",
   "id": "a269f084",
   "metadata": {},
   "source": [
    "Now using the gradient descent algorithm to predict y for test using the predictors in the training set"
   ]
  },
  {
   "cell_type": "code",
   "execution_count": 18,
   "id": "e0f95f9d",
   "metadata": {},
   "outputs": [
    {
     "data": {
      "text/plain": [
       "<matplotlib.collections.PathCollection at 0x1a8465eb610>"
      ]
     },
     "execution_count": 18,
     "metadata": {},
     "output_type": "execute_result"
    },
    {
     "data": {
      "image/png": "[encoded data removed]",
      "text/plain": [
       "<Figure size 432x288 with 1 Axes>"
      ]
     },
     "metadata": {
      "needs_background": "light"
     },
     "output_type": "display_data"
    }
   ],
   "source": [
    "tepr = y_test.copy() #stands for training prediction\n",
    "tepr = pd.DataFrame(tepr)\n",
    "tepr['Predicted'] = (x_test['bias']*weights_train[0]) + (x_test['TV']*weights_train[1]) + (x_test['Radio']*weights_train[2]) + (x_test['Newspaper']*weights_train[3])\n",
    "\n",
    "plt.scatter(tepr['Sales'],tepr['Predicted'])"
   ]
  },
  {
   "cell_type": "markdown",
   "id": "8e409159",
   "metadata": {},
   "source": [
    "### 8) Reverting Standardized Data to its original form"
   ]
  },
  {
   "cell_type": "code",
   "execution_count": 19,
   "id": "7e751662",
   "metadata": {
    "scrolled": true
   },
   "outputs": [],
   "source": [
    "g = x.copy()\n",
    "g['Sales'] = y\n",
    "g = scaler.inverse_transform(g.values)\n",
    "g = pd.DataFrame(g, columns = ['bias','TV','Radio','Newspaper','Sales'])\n",
    "\n",
    "x['Prediction'] = (x['bias']*weights_train[0]) + (x['TV']*weights_train[1]) + (x['Radio']*weights_train[2]) + (x['Newspaper']*weights_train[3])\n",
    "x = scaler.inverse_transform(x.values)\n",
    "x = pd.DataFrame(x, columns = ['bias','TV','Radio','Newspaper','Predicted'])"
   ]
  },
  {
   "cell_type": "code",
   "execution_count": 20,
   "id": "fb79ece7",
   "metadata": {},
   "outputs": [
    {
     "data": {
      "text/html": [
       "<div>\n",
       "<style scoped>\n",
       "    .dataframe tbody tr th:only-of-type {\n",
       "        vertical-align: middle;\n",
       "    }\n",
       "\n",
       "    .dataframe tbody tr th {\n",
       "        vertical-align: top;\n",
       "    }\n",
       "\n",
       "    .dataframe thead th {\n",
       "        text-align: right;\n",
       "    }\n",
       "</style>\n",
       "<table border=\"1\" class=\"dataframe\">\n",
       "  <thead>\n",
       "    <tr style=\"text-align: right;\">\n",
       "      <th></th>\n",
       "      <th>bias</th>\n",
       "      <th>TV</th>\n",
       "      <th>Radio</th>\n",
       "      <th>Newspaper</th>\n",
       "      <th>Sales</th>\n",
       "      <th>Predicted</th>\n",
       "    </tr>\n",
       "  </thead>\n",
       "  <tbody>\n",
       "    <tr>\n",
       "      <th>0</th>\n",
       "      <td>158.234305</td>\n",
       "      <td>230.1</td>\n",
       "      <td>37.8</td>\n",
       "      <td>69.2</td>\n",
       "      <td>22.1</td>\n",
       "      <td>20.212910</td>\n",
       "    </tr>\n",
       "    <tr>\n",
       "      <th>1</th>\n",
       "      <td>158.234305</td>\n",
       "      <td>44.5</td>\n",
       "      <td>39.3</td>\n",
       "      <td>45.1</td>\n",
       "      <td>10.4</td>\n",
       "      <td>12.451059</td>\n",
       "    </tr>\n",
       "    <tr>\n",
       "      <th>2</th>\n",
       "      <td>158.234305</td>\n",
       "      <td>17.2</td>\n",
       "      <td>45.9</td>\n",
       "      <td>69.3</td>\n",
       "      <td>9.3</td>\n",
       "      <td>12.621007</td>\n",
       "    </tr>\n",
       "    <tr>\n",
       "      <th>3</th>\n",
       "      <td>158.234305</td>\n",
       "      <td>151.5</td>\n",
       "      <td>41.3</td>\n",
       "      <td>58.5</td>\n",
       "      <td>18.5</td>\n",
       "      <td>17.358607</td>\n",
       "    </tr>\n",
       "    <tr>\n",
       "      <th>4</th>\n",
       "      <td>158.234305</td>\n",
       "      <td>180.8</td>\n",
       "      <td>10.8</td>\n",
       "      <td>58.4</td>\n",
       "      <td>12.9</td>\n",
       "      <td>13.902112</td>\n",
       "    </tr>\n",
       "    <tr>\n",
       "      <th>...</th>\n",
       "      <td>...</td>\n",
       "      <td>...</td>\n",
       "      <td>...</td>\n",
       "      <td>...</td>\n",
       "      <td>...</td>\n",
       "      <td>...</td>\n",
       "    </tr>\n",
       "    <tr>\n",
       "      <th>195</th>\n",
       "      <td>158.234305</td>\n",
       "      <td>38.2</td>\n",
       "      <td>3.7</td>\n",
       "      <td>13.8</td>\n",
       "      <td>7.6</td>\n",
       "      <td>6.360069</td>\n",
       "    </tr>\n",
       "    <tr>\n",
       "      <th>196</th>\n",
       "      <td>158.234305</td>\n",
       "      <td>94.2</td>\n",
       "      <td>4.9</td>\n",
       "      <td>8.1</td>\n",
       "      <td>9.7</td>\n",
       "      <td>8.798633</td>\n",
       "    </tr>\n",
       "    <tr>\n",
       "      <th>197</th>\n",
       "      <td>158.234305</td>\n",
       "      <td>177.0</td>\n",
       "      <td>9.3</td>\n",
       "      <td>6.4</td>\n",
       "      <td>12.8</td>\n",
       "      <td>12.887498</td>\n",
       "    </tr>\n",
       "    <tr>\n",
       "      <th>198</th>\n",
       "      <td>158.234305</td>\n",
       "      <td>283.6</td>\n",
       "      <td>42.0</td>\n",
       "      <td>66.2</td>\n",
       "      <td>25.5</td>\n",
       "      <td>23.039755</td>\n",
       "    </tr>\n",
       "    <tr>\n",
       "      <th>199</th>\n",
       "      <td>158.234305</td>\n",
       "      <td>232.1</td>\n",
       "      <td>8.6</td>\n",
       "      <td>8.7</td>\n",
       "      <td>13.4</td>\n",
       "      <td>15.094236</td>\n",
       "    </tr>\n",
       "  </tbody>\n",
       "</table>\n",
       "<p>200 rows × 6 columns</p>\n",
       "</div>"
      ],
      "text/plain": [
       "           bias     TV  Radio  Newspaper  Sales  Predicted\n",
       "0    158.234305  230.1   37.8       69.2   22.1  20.212910\n",
       "1    158.234305   44.5   39.3       45.1   10.4  12.451059\n",
       "2    158.234305   17.2   45.9       69.3    9.3  12.621007\n",
       "3    158.234305  151.5   41.3       58.5   18.5  17.358607\n",
       "4    158.234305  180.8   10.8       58.4   12.9  13.902112\n",
       "..          ...    ...    ...        ...    ...        ...\n",
       "195  158.234305   38.2    3.7       13.8    7.6   6.360069\n",
       "196  158.234305   94.2    4.9        8.1    9.7   8.798633\n",
       "197  158.234305  177.0    9.3        6.4   12.8  12.887498\n",
       "198  158.234305  283.6   42.0       66.2   25.5  23.039755\n",
       "199  158.234305  232.1    8.6        8.7   13.4  15.094236\n",
       "\n",
       "[200 rows x 6 columns]"
      ]
     },
     "execution_count": 20,
     "metadata": {},
     "output_type": "execute_result"
    }
   ],
   "source": [
    "x.insert(4, \"Sales\", g[\"Sales\"])\n",
    "x"
   ]
  },
  {
   "cell_type": "code",
   "execution_count": 21,
   "id": "6b10daad",
   "metadata": {
    "scrolled": true
   },
   "outputs": [
    {
     "data": {
      "text/plain": [
       "[<matplotlib.lines.Line2D at 0x1a846656e20>,\n",
       " <matplotlib.lines.Line2D at 0x1a846656e80>]"
      ]
     },
     "execution_count": 21,
     "metadata": {},
     "output_type": "execute_result"
    },
    {
     "data": {
      "image/png": "[encoded data removed]",
      "text/plain": [
       "<Figure size 1152x288 with 1 Axes>"
      ]
     },
     "metadata": {
      "needs_background": "light"
     },
     "output_type": "display_data"
    }
   ],
   "source": [
    "# sales vs prediction graph\n",
    "plt.figure(figsize=(16,4))\n",
    "plt.plot(x.iloc[:,4:])"
   ]
  },
  {
   "cell_type": "code",
   "execution_count": 22,
   "id": "324e8db3",
   "metadata": {},
   "outputs": [
    {
     "data": {
      "text/plain": [
       "<matplotlib.collections.PathCollection at 0x1a8466caa30>"
      ]
     },
     "execution_count": 22,
     "metadata": {},
     "output_type": "execute_result"
    },
    {
     "data": {
      "image/png": "[encoded data removed]",
      "text/plain": [
       "<Figure size 432x288 with 1 Axes>"
      ]
     },
     "metadata": {
      "needs_background": "light"
     },
     "output_type": "display_data"
    }
   ],
   "source": [
    "# Creating a scatterplot for y-hat(i) and y(i)\n",
    "plt.scatter(x['Sales'],x['Predicted'])"
   ]
  },
  {
   "cell_type": "markdown",
   "id": "4dfc2009",
   "metadata": {},
   "source": [
    "### 9) Observe the cost results and analyse\n",
    "\n",
    "As can be seen from the results shown in the graphs above, the gradient descent algorithm was successful in fitting a regression line onto the given data. In doing this, it provided us with a set of weights that could be plugged into a regression function to help predict sales based on the advertising budgets of various media forms.\n",
    "\n",
    "In particular, this is visible in how when the generated weights were used in the regression function to create predicted values, both the line graph and the scatterplot shown above illustrate how these predicted values are very close to the original after reverting the standardization process."
   ]
  },
  {
   "cell_type": "markdown",
   "id": "f8e90d33",
   "metadata": {},
   "source": [
    "# EXPERIMENTS FOR QUESTION SECTION"
   ]
  },
  {
   "cell_type": "code",
   "execution_count": 23,
   "id": "169e8b71",
   "metadata": {},
   "outputs": [
    {
     "name": "stdout",
     "output_type": "stream",
     "text": [
      "Weight of bias:  0.009973254791945253\n",
      "Weight of TV:  0.6827554374541572\n",
      "Weight of radio:  0.4357970099774008\n",
      "Weight of newspaper:  0.050348952521936406\n"
     ]
    }
   ],
   "source": [
    "print('Weight of bias: ', weights_train[0])\n",
    "print('Weight of TV: ', weights_train[1])\n",
    "print('Weight of radio: ', weights_train[2])\n",
    "print('Weight of newspaper: ', weights_train[3])"
   ]
  },
  {
   "cell_type": "code",
   "execution_count": 24,
   "id": "98a9d3da",
   "metadata": {
    "scrolled": false
   },
   "outputs": [
    {
     "name": "stdout",
     "output_type": "stream",
     "text": [
      "TRAINING r2 SCORE:  0.8813043384764145\n",
      "TESTING r2 SCORE:  0.885845827374728\n"
     ]
    }
   ],
   "source": [
    "from sklearn.metrics import r2_score\n",
    "\n",
    "# using sklearn to produce the r2 scores of the training and testing datasets\n",
    "print ('TRAINING r2 SCORE: ', r2_score(trpr['Sales'],trpr['Predicted']))\n",
    "print ('TESTING r2 SCORE: ', r2_score(tepr['Sales'],tepr['Predicted']))"
   ]
  },
  {
   "cell_type": "code",
   "execution_count": 25,
   "id": "42c402cc",
   "metadata": {},
   "outputs": [],
   "source": [
    "# doing 5000 iterations\n",
    "\n",
    "def grad_desc_5k(alpha, x_set, y_set):\n",
    "    costs = []\n",
    "    \n",
    "    # initial calling of functions to make sure all our variables are in order before looping\n",
    "    weights = initialize_weights()\n",
    "    y_hat = predict(weights, x_set)\n",
    "    cost = compute_cost(y_set.shape[0], y_hat, y_set)\n",
    "    prev_cost = cost + 1                         # arbitrary value that just needs to be bigger than cost\n",
    "    w = compute_gradient(y_set.shape[0], alpha, y_hat, y_set, x_set)\n",
    "    \n",
    "    # we're doing this 5000 times instead of waiting for convergence.\n",
    "    for i in range (0,5000): \n",
    "        weights = update_weights(weights, w)     # update weights\n",
    "        costs.append(cost)                       # update costs\n",
    "        y_hat = predict(weights, x_set)          # predict new value for y-hat\n",
    "        prev_cost = cost                         # update previous cost\n",
    "        cost = compute_cost(y_set.shape[0], y_hat, y_set) # calculate new cost\n",
    "        w = compute_gradient(y_set.shape[0], alpha, y_hat, y_set, x_set)\n",
    "    return weights, costs"
   ]
  },
  {
   "cell_type": "code",
   "execution_count": 26,
   "id": "190a6886",
   "metadata": {
    "scrolled": true
   },
   "outputs": [
    {
     "data": {
      "text/plain": [
       "[<matplotlib.lines.Line2D at 0x1a846770310>]"
      ]
     },
     "execution_count": 26,
     "metadata": {},
     "output_type": "execute_result"
    },
    {
     "data": {
      "image/png": "[encoded data removed]",
      "text/plain": [
       "<Figure size 1152x288 with 1 Axes>"
      ]
     },
     "metadata": {
      "needs_background": "light"
     },
     "output_type": "display_data"
    }
   ],
   "source": [
    "weights_5k, costs_5k = grad_desc_5k(alpha, x_train, y_train)\n",
    "plot_costs(costs_5k)"
   ]
  },
  {
   "cell_type": "code",
   "execution_count": 27,
   "id": "c0fb8ae8",
   "metadata": {
    "scrolled": true
   },
   "outputs": [
    {
     "name": "stdout",
     "output_type": "stream",
     "text": [
      "5k cost:           0.35085871197031293      number of iterations: 5000\n",
      "convergence cost:  3.016247325301351e-06    number of iterations:  205\n"
     ]
    }
   ],
   "source": [
    "print(\"5k cost:          \", costs_5k[len(costs_5k)-1], \"     number of iterations: 5000\")\n",
    "print(\"convergence cost: \", costs_train[len(costs_train)-1], \"   number of iterations: \", len(costs_train))"
   ]
  },
  {
   "cell_type": "code",
   "execution_count": 28,
   "id": "efc6733b",
   "metadata": {
    "scrolled": true
   },
   "outputs": [
    {
     "data": {
      "text/plain": [
       "True"
      ]
     },
     "execution_count": 28,
     "metadata": {},
     "output_type": "execute_result"
    }
   ],
   "source": [
    "3.016247325301351e-06 < 0.35085871197031293"
   ]
  },
  {
   "cell_type": "code",
   "execution_count": 29,
   "id": "35d0d903",
   "metadata": {},
   "outputs": [
    {
     "data": {
      "text/html": [
       "<div>\n",
       "<style scoped>\n",
       "    .dataframe tbody tr th:only-of-type {\n",
       "        vertical-align: middle;\n",
       "    }\n",
       "\n",
       "    .dataframe tbody tr th {\n",
       "        vertical-align: top;\n",
       "    }\n",
       "\n",
       "    .dataframe thead th {\n",
       "        text-align: right;\n",
       "    }\n",
       "</style>\n",
       "<table border=\"1\" class=\"dataframe\">\n",
       "  <thead>\n",
       "    <tr style=\"text-align: right;\">\n",
       "      <th></th>\n",
       "      <th>Sales</th>\n",
       "      <th>Predicted</th>\n",
       "    </tr>\n",
       "  </thead>\n",
       "  <tbody>\n",
       "    <tr>\n",
       "      <th>0</th>\n",
       "      <td>1.552053</td>\n",
       "      <td>1.254012</td>\n",
       "    </tr>\n",
       "    <tr>\n",
       "      <th>1</th>\n",
       "      <td>-0.696046</td>\n",
       "      <td>-0.363758</td>\n",
       "    </tr>\n",
       "    <tr>\n",
       "      <th>2</th>\n",
       "      <td>-0.907406</td>\n",
       "      <td>-0.388640</td>\n",
       "    </tr>\n",
       "    <tr>\n",
       "      <th>3</th>\n",
       "      <td>0.860330</td>\n",
       "      <td>0.668077</td>\n",
       "    </tr>\n",
       "    <tr>\n",
       "      <th>4</th>\n",
       "      <td>-0.215683</td>\n",
       "      <td>-0.121774</td>\n",
       "    </tr>\n",
       "  </tbody>\n",
       "</table>\n",
       "</div>"
      ],
      "text/plain": [
       "      Sales  Predicted\n",
       "0  1.552053   1.254012\n",
       "1 -0.696046  -0.363758\n",
       "2 -0.907406  -0.388640\n",
       "3  0.860330   0.668077\n",
       "4 -0.215683  -0.121774"
      ]
     },
     "execution_count": 29,
     "metadata": {},
     "output_type": "execute_result"
    }
   ],
   "source": [
    "other = y_train.copy()\n",
    "other = pd.DataFrame(other, columns=['Sales'])\n",
    "other['Predicted'] = (x_train['bias']*weights_5k[0]) + (x_train['TV']*weights_5k[1]) + (x_train['Radio']*weights_5k[2]) + (x_train['Newspaper']*weights_5k[3])\n",
    "other.head()"
   ]
  },
  {
   "cell_type": "code",
   "execution_count": 30,
   "id": "fde6126a",
   "metadata": {
    "scrolled": false
   },
   "outputs": [
    {
     "data": {
      "text/plain": [
       "0.8957583858078612"
      ]
     },
     "execution_count": 30,
     "metadata": {},
     "output_type": "execute_result"
    }
   ],
   "source": [
    "r2_score(other['Sales'],other['Predicted'])"
   ]
  },
  {
   "cell_type": "code",
   "execution_count": 31,
   "id": "8a1aeb01",
   "metadata": {
    "scrolled": true
   },
   "outputs": [
    {
     "data": {
      "text/plain": [
       "-2.4054832200211726e-17"
      ]
     },
     "execution_count": 31,
     "metadata": {},
     "output_type": "execute_result"
    }
   ],
   "source": [
    "other['Error'] = other['Sales']-other['Predicted']\n",
    "other['Error'].mean()"
   ]
  },
  {
   "cell_type": "code",
   "execution_count": 32,
   "id": "9c93ae93",
   "metadata": {
    "scrolled": false
   },
   "outputs": [
    {
     "data": {
      "text/plain": [
       "0.0005029562702831221"
      ]
     },
     "execution_count": 32,
     "metadata": {},
     "output_type": "execute_result"
    }
   ],
   "source": [
    "trpr['Error'] = trpr['Sales']-trpr['Predicted']\n",
    "trpr['Error'].mean()"
   ]
  },
  {
   "cell_type": "code",
   "execution_count": 33,
   "id": "0783e085",
   "metadata": {},
   "outputs": [
    {
     "data": {
      "text/plain": [
       "True"
      ]
     },
     "execution_count": 33,
     "metadata": {},
     "output_type": "execute_result"
    }
   ],
   "source": [
    "-2.4054832200211726e-17 < 0.0005029562702831221"
   ]
  },
  {
   "cell_type": "code",
   "execution_count": 34,
   "id": "faa67793",
   "metadata": {},
   "outputs": [],
   "source": [
    "def grad(alpha, x_set, y_set):\n",
    "    costs = []\n",
    "    \n",
    "    # initial calling of functions to make sure all our variables are in order before looping\n",
    "    weights = initialize_weights()\n",
    "    y_hat = predict(weights, x_set)\n",
    "    cost = compute_cost(y_set.shape[0], y_hat, y_set)\n",
    "    prev_cost = cost + 1                         # arbitrary value that just needs to be bigger than cost\n",
    "    w = compute_gradient(y_set.shape[0], alpha, y_hat, y_set, x_set)\n",
    "    \n",
    "    for i in range (0,1000): \n",
    "        weights = update_weights(weights, w)     # update weights\n",
    "        costs.append(cost)                       # update costs\n",
    "        y_hat = predict(weights, x_set)          # predict new value for y-hat\n",
    "        prev_cost = cost                         # update previous cost\n",
    "        cost = compute_cost(y_set.shape[0], y_hat, y_set) # calculate new cost\n",
    "        w = compute_gradient(y_set.shape[0], alpha, y_hat, y_set, x_set)\n",
    "    return weights, costs"
   ]
  },
  {
   "cell_type": "code",
   "execution_count": 35,
   "id": "ca1cb90f",
   "metadata": {},
   "outputs": [],
   "source": [
    "weights_1, costs_1 = grad(0.1, x_train, y_train)"
   ]
  },
  {
   "cell_type": "code",
   "execution_count": 36,
   "id": "ee70ef9d",
   "metadata": {},
   "outputs": [],
   "source": [
    "weights_01, costs_01 = grad(0.01, x_train, y_train)"
   ]
  },
  {
   "cell_type": "code",
   "execution_count": 37,
   "id": "395205ac",
   "metadata": {},
   "outputs": [],
   "source": [
    "weights_001, costs_001 = grad(0.001, x_train, y_train)"
   ]
  },
  {
   "cell_type": "code",
   "execution_count": 38,
   "id": "378d5961",
   "metadata": {},
   "outputs": [],
   "source": [
    "weights_2, costs_2 = grad(0.2, x_train, y_train)"
   ]
  },
  {
   "cell_type": "code",
   "execution_count": 39,
   "id": "49c30e47",
   "metadata": {},
   "outputs": [],
   "source": [
    "weights_0001, costs_0001 = grad(0.0001, x_train, y_train)"
   ]
  },
  {
   "cell_type": "code",
   "execution_count": 40,
   "id": "626a3cce",
   "metadata": {},
   "outputs": [
    {
     "data": {
      "image/png": "[encoded data removed]",
      "text/plain": [
       "<Figure size 1152x288 with 1 Axes>"
      ]
     },
     "metadata": {
      "needs_background": "light"
     },
     "output_type": "display_data"
    }
   ],
   "source": [
    "plt.figure(figsize=(16,4))\n",
    "plt.plot(costs_1, label = \"lr = 0.1\")\n",
    "plt.plot(costs_01, label = \"lr = 0.01\")\n",
    "plt.plot(costs_001, label = \"lr = 0.001\")\n",
    "plt.plot(costs_0001, label = \"lr = 0.0001\")\n",
    "plt.plot(costs_2, label = \"lr = 0.2\")\n",
    "plt.legend()\n",
    "plt.show()"
   ]
  },
  {
   "cell_type": "code",
   "execution_count": 41,
   "id": "fad1abc5",
   "metadata": {},
   "outputs": [],
   "source": [
    "weights_1, costs_1 = grad_descent(0.1, x_train, y_train)"
   ]
  },
  {
   "cell_type": "code",
   "execution_count": 42,
   "id": "bc19f0f7",
   "metadata": {},
   "outputs": [],
   "source": [
    "weights_01, costs_01 = grad_descent(0.01, x_train, y_train)"
   ]
  },
  {
   "cell_type": "code",
   "execution_count": 43,
   "id": "75bfc515",
   "metadata": {},
   "outputs": [],
   "source": [
    "weights_001, costs_001 = grad_descent(0.001, x_train, y_train)"
   ]
  },
  {
   "cell_type": "code",
   "execution_count": 45,
   "id": "690c70d2",
   "metadata": {},
   "outputs": [],
   "source": [
    "weights_2, costs_2 = grad_descent(0.2, x_train, y_train)"
   ]
  },
  {
   "cell_type": "code",
   "execution_count": 46,
   "id": "6a09f7f2",
   "metadata": {},
   "outputs": [
    {
     "data": {
      "image/png": "[encoded data removed]",
      "text/plain": [
       "<Figure size 1152x288 with 1 Axes>"
      ]
     },
     "metadata": {
      "needs_background": "light"
     },
     "output_type": "display_data"
    }
   ],
   "source": [
    "plt.figure(figsize=(16,4))\n",
    "plt.plot(costs_1, label = \"lr = 0.1\")\n",
    "plt.plot(costs_01, label = \"lr = 0.01\")\n",
    "plt.plot(costs_001, label = \"lr = 0.001\")\n",
    "plt.plot(costs_2, label = \"lr = 0.2\")\n",
    "plt.legend()\n",
    "plt.show()"
   ]
  },
  {
   "cell_type": "markdown",
   "id": "033484e4",
   "metadata": {},
   "source": [
    "CMSC 197 - Machine Learning - Aren Deza, 2019-50022, BS in Computer Science 4"
   ]
  }
 ],
 "metadata": {
  "kernelspec": {
   "display_name": "Python 3 (ipykernel)",
   "language": "python",
   "name": "python3"
  },
  "language_info": {
   "codemirror_mode": {
    "name": "ipython",
    "version": 3
   },
   "file_extension": ".py",
   "mimetype": "text/x-python",
   "name": "python",
   "nbconvert_exporter": "python",
   "pygments_lexer": "ipython3",
   "version": "3.9.12"
  }
 },
 "nbformat": 4,
 "nbformat_minor": 5
}
