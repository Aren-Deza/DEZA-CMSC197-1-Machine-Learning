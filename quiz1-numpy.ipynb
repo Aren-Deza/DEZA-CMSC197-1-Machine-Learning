{
 "cells": [
  {
   "cell_type": "markdown",
   "id": "f1375974",
   "metadata": {},
   "source": [
    "# CMSC 197 - QUIZ 1\n",
    "AREN DEZA, 2019-50022<br>BS Compsci 4, Section 1\n",
    "## [ PART 1. REGRESSION LOSS FUNCTIONS ]"
   ]
  },
  {
   "cell_type": "code",
   "execution_count": 7,
   "id": "8450c8fd",
   "metadata": {},
   "outputs": [
    {
     "name": "stdout",
     "output_type": "stream",
     "text": [
      "%pylab is deprecated, use %matplotlib inline and import the required libraries.\n",
      "Populating the interactive namespace from numpy and matplotlib\n"
     ]
    }
   ],
   "source": [
    "%pylab inline"
   ]
  },
  {
   "cell_type": "markdown",
   "id": "d41cefb4",
   "metadata": {},
   "source": [
    "### Creating 2 arrays, y_hat and y\n",
    "**y_hat** is initialized with 20 linearly spaced numbers between -1 and 1.<br>\n",
    "**y** is initialized with 20 linearly spaced numbers between 0 and 1.\n",
    "\n",
    "To accomplish this, we use the Numpy function **np.linspace()** which returns <br>\n",
    "a specified number of linearly spaced numbers between a given upper and lower limit."
   ]
  },
  {
   "cell_type": "code",
   "execution_count": 8,
   "id": "e6d28cf1",
   "metadata": {},
   "outputs": [
    {
     "data": {
      "text/plain": [
       "array([-1.        , -0.89473684, -0.78947368, -0.68421053, -0.57894737,\n",
       "       -0.47368421, -0.36842105, -0.26315789, -0.15789474, -0.05263158,\n",
       "        0.05263158,  0.15789474,  0.26315789,  0.36842105,  0.47368421,\n",
       "        0.57894737,  0.68421053,  0.78947368,  0.89473684,  1.        ])"
      ]
     },
     "execution_count": 8,
     "metadata": {},
     "output_type": "execute_result"
    }
   ],
   "source": [
    "y_hat = np.linspace(-1,1,20)\n",
    "y = np.linspace(0,1,20)\n",
    "\n",
    "y_hat"
   ]
  },
  {
   "cell_type": "code",
   "execution_count": 9,
   "id": "82c5871d",
   "metadata": {},
   "outputs": [
    {
     "data": {
      "text/plain": [
       "array([0.        , 0.05263158, 0.10526316, 0.15789474, 0.21052632,\n",
       "       0.26315789, 0.31578947, 0.36842105, 0.42105263, 0.47368421,\n",
       "       0.52631579, 0.57894737, 0.63157895, 0.68421053, 0.73684211,\n",
       "       0.78947368, 0.84210526, 0.89473684, 0.94736842, 1.        ])"
      ]
     },
     "execution_count": 9,
     "metadata": {},
     "output_type": "execute_result"
    }
   ],
   "source": [
    "y"
   ]
  },
  {
   "cell_type": "markdown",
   "id": "086a0ce8",
   "metadata": {},
   "source": [
    "### Computing for the shape and dimension of y_hat and y"
   ]
  },
  {
   "cell_type": "code",
   "execution_count": 10,
   "id": "a5f00e2b",
   "metadata": {},
   "outputs": [
    {
     "name": "stdout",
     "output_type": "stream",
     "text": [
      "y_hat shape:      (20,)\n",
      "y_hat dimension:  1\n"
     ]
    }
   ],
   "source": [
    "print(\"y_hat shape:     \", y_hat.shape)\n",
    "print(\"y_hat dimension: \", y_hat.ndim)"
   ]
  },
  {
   "cell_type": "code",
   "execution_count": 11,
   "id": "073331df",
   "metadata": {},
   "outputs": [
    {
     "name": "stdout",
     "output_type": "stream",
     "text": [
      "y shape:      (20,)\n",
      "y dimension:  1\n"
     ]
    }
   ],
   "source": [
    "print(\"y shape:     \", y.shape)\n",
    "print(\"y dimension: \", y.ndim)"
   ]
  },
  {
   "cell_type": "markdown",
   "id": "1aa1030b",
   "metadata": {},
   "source": [
    "### Creating individual functions for each of the loss functions <br> using y and y_hat as parameters\n",
    "This value N will be used for each of the loss functions below. <br>\n",
    "Changing it here will affect the results, so feel free to change it as needed. <br><br>\n",
    "However, please note that it will never go above 20, as that will go out of bounds."
   ]
  },
  {
   "cell_type": "code",
   "execution_count": 13,
   "id": "f87ac769",
   "metadata": {},
   "outputs": [
    {
     "name": "stdout",
     "output_type": "stream",
     "text": [
      "Please enter a value for N: 10\n"
     ]
    },
    {
     "data": {
      "text/plain": [
       "10"
      ]
     },
     "execution_count": 13,
     "metadata": {},
     "output_type": "execute_result"
    }
   ],
   "source": [
    "N = int(input(\"Please enter a value for N: \"))\n",
    "if N > 20:\n",
    "    N = 20\n",
    "N"
   ]
  },
  {
   "cell_type": "markdown",
   "id": "503db4d8",
   "metadata": {},
   "source": [
    "### Part 1-1. Mean Squared Error"
   ]
  },
  {
   "cell_type": "code",
   "execution_count": 14,
   "id": "f5c0cea9",
   "metadata": {},
   "outputs": [],
   "source": [
    "L = 0\n",
    "\n",
    "for i in range(0,N):\n",
    "    L = L + (y_hat[i] - y[i])**2\n",
    "\n",
    "L = L * (1/N)"
   ]
  },
  {
   "cell_type": "code",
   "execution_count": 15,
   "id": "ac45b4d2",
   "metadata": {},
   "outputs": [
    {
     "data": {
      "text/plain": [
       "0.6052631578947368"
      ]
     },
     "execution_count": 15,
     "metadata": {},
     "output_type": "execute_result"
    }
   ],
   "source": [
    "L"
   ]
  },
  {
   "cell_type": "markdown",
   "id": "90073b67",
   "metadata": {},
   "source": [
    "### Part 1-2. Mean Absolute Error"
   ]
  },
  {
   "cell_type": "code",
   "execution_count": 16,
   "id": "0348b6cd",
   "metadata": {},
   "outputs": [],
   "source": [
    "L = 0\n",
    "\n",
    "for i in range(0,N):\n",
    "    L = L + abs(y_hat[i] - y[i])\n",
    "\n",
    "L = L * (1/N)"
   ]
  },
  {
   "cell_type": "code",
   "execution_count": 17,
   "id": "dd8e48e8",
   "metadata": {},
   "outputs": [
    {
     "data": {
      "text/plain": [
       "0.7631578947368423"
      ]
     },
     "execution_count": 17,
     "metadata": {},
     "output_type": "execute_result"
    }
   ],
   "source": [
    "L"
   ]
  },
  {
   "cell_type": "markdown",
   "id": "df17aef2",
   "metadata": {},
   "source": [
    "### Part 1-3. Mean Squared Logarithmic Error\n",
    "This was executed using the given rules. Here, we <u>do not perform MSLE if we have any negative target variables.</u><br>\n",
    "Otherwise, we will check if **y_hat** and **y** have any zeroes. If they both have no zeroes, we will forego having to add 1 in our logarithm steps."
   ]
  },
  {
   "cell_type": "code",
   "execution_count": 18,
   "id": "cb13984e",
   "metadata": {},
   "outputs": [],
   "source": [
    "L = 0\n",
    "no_negatives = True\n",
    "no_zeroes = True\n",
    "\n",
    "for i in range(0,20):\n",
    "    if (y_hat[i]<0) or (y[i]<0):    # Checking for negative target variables\n",
    "        no_negatives = False\n",
    "        break\n",
    "    if (y_hat[i]==0) or (y[i]==0):  # Checking for zeroes\n",
    "        no_zeroes = False\n",
    "        continue\n",
    "\n",
    "if no_negatives:\n",
    "    if no_zeroes:                   # If target is never zero, the addition of 1 can be dropped\n",
    "        for i in range(0,N):\n",
    "            L = L + (log(y_hat[i]) - log(y[i]))**2\n",
    "        L = L * (1/N)\n",
    "    else:\n",
    "        for i in range(0,N):\n",
    "            L = L + (log(y_hat[i]+1) - log(y[i]+1))**2\n",
    "        L = L * (1/N)\n",
    "else:\n",
    "    L = \"Array has negative target variables. Cannot perform MSLE\""
   ]
  },
  {
   "cell_type": "code",
   "execution_count": 19,
   "id": "ab0b2e91",
   "metadata": {},
   "outputs": [
    {
     "data": {
      "text/plain": [
       "'Array has negative target variables. Cannot perform MSLE'"
      ]
     },
     "execution_count": 19,
     "metadata": {},
     "output_type": "execute_result"
    }
   ],
   "source": [
    "L"
   ]
  },
  {
   "cell_type": "markdown",
   "id": "0f560694",
   "metadata": {},
   "source": [
    "### Part 1-4. Mean Absolute Percentage Error\n",
    "To avoid instances of zero division, we just skip over any instance where it may happen."
   ]
  },
  {
   "cell_type": "code",
   "execution_count": 20,
   "id": "5d42674e",
   "metadata": {},
   "outputs": [],
   "source": [
    "L = 0\n",
    "\n",
    "for i in range(0,N):\n",
    "    if y[i] == 0:      # No zero division\n",
    "        continue\n",
    "    else:\n",
    "        L = L + abs((y_hat[i] - y[i])/y[i])\n",
    "\n",
    "L = L * (100/N)"
   ]
  },
  {
   "cell_type": "code",
   "execution_count": 21,
   "id": "7fda853b",
   "metadata": {},
   "outputs": [
    {
     "data": {
      "text/plain": [
       "447.50396825396825"
      ]
     },
     "execution_count": 21,
     "metadata": {},
     "output_type": "execute_result"
    }
   ],
   "source": [
    "L"
   ]
  },
  {
   "cell_type": "markdown",
   "id": "d64cdb99",
   "metadata": {},
   "source": [
    "## [ PART 2. APPLICATION OF LESSONS ]"
   ]
  },
  {
   "cell_type": "markdown",
   "id": "69c75486",
   "metadata": {},
   "source": [
    "### Creating a 1d array M {1, 2, ...16} using the arange function\n",
    "As discussed in class, it works in such a way that **[bottom, top)**"
   ]
  },
  {
   "cell_type": "code",
   "execution_count": 22,
   "id": "57de3398",
   "metadata": {},
   "outputs": [
    {
     "data": {
      "text/plain": [
       "array([ 1,  2,  3,  4,  5,  6,  7,  8,  9, 10, 11, 12, 13, 14, 15, 16])"
      ]
     },
     "execution_count": 22,
     "metadata": {},
     "output_type": "execute_result"
    }
   ],
   "source": [
    "M = np.arange(1,17)\n",
    "M"
   ]
  },
  {
   "cell_type": "markdown",
   "id": "bbe62d74",
   "metadata": {},
   "source": [
    "### Reshaping M into 4x4 array and store it to N\n",
    "To do this, we use the **np.reshape()** function to convert our 1D array into a 4x4 one.<br>\n",
    "Here, we adjust the parameters to get the desired 4 rows and 4 columns."
   ]
  },
  {
   "cell_type": "code",
   "execution_count": 23,
   "id": "b905f309",
   "metadata": {},
   "outputs": [
    {
     "data": {
      "text/plain": [
       "array([[ 1,  2,  3,  4],\n",
       "       [ 5,  6,  7,  8],\n",
       "       [ 9, 10, 11, 12],\n",
       "       [13, 14, 15, 16]])"
      ]
     },
     "execution_count": 23,
     "metadata": {},
     "output_type": "execute_result"
    }
   ],
   "source": [
    "M = np.reshape(M,(1,4,4))[0]\n",
    "N = M\n",
    "N"
   ]
  },
  {
   "cell_type": "markdown",
   "id": "10cd6b95",
   "metadata": {},
   "source": [
    "### Getting the 2nd row of N"
   ]
  },
  {
   "cell_type": "code",
   "execution_count": 24,
   "id": "b0bb770b",
   "metadata": {},
   "outputs": [
    {
     "data": {
      "text/plain": [
       "array([5, 6, 7, 8])"
      ]
     },
     "execution_count": 24,
     "metadata": {},
     "output_type": "execute_result"
    }
   ],
   "source": [
    "N[1]"
   ]
  },
  {
   "cell_type": "markdown",
   "id": "b24f8f8d",
   "metadata": {},
   "source": [
    "### Getting the minimum values for each column of N\n",
    "Numpy provides us with the **np.min** function to return the minimum value within a given matrix. <br>\n",
    "Here, we can restrict its use to each individual column while iterating through a for loop to get the results we need."
   ]
  },
  {
   "cell_type": "code",
   "execution_count": 25,
   "id": "306f065b",
   "metadata": {},
   "outputs": [
    {
     "name": "stdout",
     "output_type": "stream",
     "text": [
      "min value in col 0 is 1\n",
      "min value in col 1 is 2\n",
      "min value in col 2 is 3\n",
      "min value in col 3 is 4\n"
     ]
    }
   ],
   "source": [
    "for j in range(0,len(N)):\n",
    "    print(\"min value in col\", j, \"is\", np.min(N[:,j]))"
   ]
  },
  {
   "cell_type": "markdown",
   "id": "a962839e",
   "metadata": {},
   "source": [
    "### Get the locations of the minimum values for each column of N\n",
    "**np.where()** can be used to find the indices of any element within an array that fits certain conditions set by the user. <br> Here, we combine this function with **np.min()** to find the indices of each minimum value.<br><br>\n",
    "Afterwards, we just extract the relevant information from the results of **np.where** <br>and then we format them to fit our **array_name[row,col]** format"
   ]
  },
  {
   "cell_type": "code",
   "execution_count": 26,
   "id": "e52e0886",
   "metadata": {},
   "outputs": [
    {
     "name": "stdout",
     "output_type": "stream",
     "text": [
      "location of min value in col 0 is N[0,0]\n",
      "location of min value in col 1 is N[0,1]\n",
      "location of min value in col 2 is N[0,2]\n",
      "location of min value in col 3 is N[0,3]\n"
     ]
    }
   ],
   "source": [
    "for j in range(0,len(N)):\n",
    "    row = np.where(N == np.min(N[:,j]))[0][0]\n",
    "    col = np.where(N == np.min(N[:,j]))[1][0]\n",
    "    print(\"location of min value in col\", j, \"is\", \"N[\"+str(row)+\",\"+str(col)+\"]\")"
   ]
  },
  {
   "cell_type": "markdown",
   "id": "e1639726",
   "metadata": {},
   "source": [
    "### Getting average of whole matrix\n",
    "For this, we use **np.mean** which returns the average of the entire matrix"
   ]
  },
  {
   "cell_type": "code",
   "execution_count": 27,
   "id": "3df36bbc",
   "metadata": {},
   "outputs": [
    {
     "data": {
      "text/plain": [
       "8.5"
      ]
     },
     "execution_count": 27,
     "metadata": {},
     "output_type": "execute_result"
    }
   ],
   "source": [
    "np.mean(N)"
   ]
  },
  {
   "cell_type": "markdown",
   "id": "19d1b5c2",
   "metadata": {},
   "source": [
    "### Creating a vector V with 4 elements, each element is 1"
   ]
  },
  {
   "cell_type": "code",
   "execution_count": 28,
   "id": "48357d01",
   "metadata": {},
   "outputs": [
    {
     "data": {
      "text/plain": [
       "array([1, 1, 1, 1])"
      ]
     },
     "execution_count": 28,
     "metadata": {},
     "output_type": "execute_result"
    }
   ],
   "source": [
    "V = np.array([1,1,1,1])\n",
    "V"
   ]
  },
  {
   "cell_type": "markdown",
   "id": "2f6c9e5c",
   "metadata": {},
   "source": [
    "### Taking the dot product of N and V"
   ]
  },
  {
   "cell_type": "code",
   "execution_count": 29,
   "id": "84cac415",
   "metadata": {},
   "outputs": [
    {
     "data": {
      "text/plain": [
       "array([10, 26, 42, 58])"
      ]
     },
     "execution_count": 29,
     "metadata": {},
     "output_type": "execute_result"
    }
   ],
   "source": [
    "np.dot(N, V)"
   ]
  }
 ],
 "metadata": {
  "kernelspec": {
   "display_name": "Python 3 (ipykernel)",
   "language": "python",
   "name": "python3"
  },
  "language_info": {
   "codemirror_mode": {
    "name": "ipython",
    "version": 3
   },
   "file_extension": ".py",
   "mimetype": "text/x-python",
   "name": "python",
   "nbconvert_exporter": "python",
   "pygments_lexer": "ipython3",
   "version": "3.9.12"
  }
 },
 "nbformat": 4,
 "nbformat_minor": 5
}
